{
 "cells": [
  {
   "cell_type": "code",
   "execution_count": 15,
   "metadata": {},
   "outputs": [],
   "source": [
    "def go_dutch(people):\n",
    "    sort = sorted(people.items(), key=lambda x: x[1])\n",
    "    total = sum(people.values())\n",
    "    x = int(total / len(people))\n",
    "    print(str(x) + \" per a person\")\n",
    "    \n",
    "    while sort[0][1] <= x and len(sort) > 1:\n",
    "        if sort[-1][1] - x > (x - sort[0][1]):\n",
    "            print(str(sort[0][0]) + \" gives \" + str(x - sort[0][1]) + \" to \" + str(sort[-1][0]))\n",
    "            sort[-1] = (sort[-1][0], sort[-1][1] - (x - sort[0][1]))\n",
    "            del sort[0]   \n",
    "            \n",
    "        else:\n",
    "            print(str(sort[0][0]) + \" gives \" + str(sort[-1][1] - x) + \" to \" + str(sort[-1][0]))\n",
    "            sort[0] = (sort[0][0], sort[0][1] + (sort[-1][1] - x))\n",
    "            del sort[-1]\n",
    "        \n",
    "        sort.sort(key=lambda x: x[1])"
   ]
  },
  {
   "cell_type": "code",
   "execution_count": 16,
   "metadata": {},
   "outputs": [
    {
     "name": "stdout",
     "output_type": "stream",
     "text": [
      "43033 per a person\n",
      "donggun gives 43033 to inkoo\n",
      "hyewon gives 41867 to songhee\n",
      "dohyun gives 12967 to ikhyun\n",
      "dohyun gives 7066 to inkoo\n",
      "hyewon gives 166 to inkoo\n"
     ]
    }
   ],
   "source": [
    "people = {'inkoo' : 93300, 'ikhyun' : 56000, 'dohyun' : 23000, 'donggun' : 0, 'songhee' : 84900, 'hyewon' : 1000}\n",
    "go_dutch(people)"
   ]
  },
  {
   "cell_type": "code",
   "execution_count": 17,
   "metadata": {},
   "outputs": [
    {
     "name": "stdout",
     "output_type": "stream",
     "text": [
      "36833 per a person\n",
      "donggun gives 36833 to songhee\n",
      "dohyun gives 35833 to ikhyun\n",
      "hyewon gives 16034 to songhee\n",
      "hyewon gives 8967 to inkoo\n",
      "hyewon gives 6232 to ikhyun\n"
     ]
    }
   ],
   "source": [
    "people = {'inkoo' : 45800, 'ikhyun' : 78900, 'dohyun' : 1000, 'donggun' : 0, 'songhee' : 89700, 'hyewon' : 5600}\n",
    "go_dutch(people)"
   ]
  },
  {
   "cell_type": "code",
   "execution_count": null,
   "metadata": {},
   "outputs": [],
   "source": []
  }
 ],
 "metadata": {
  "kernelspec": {
   "display_name": "Python 3",
   "language": "python",
   "name": "python3"
  },
  "language_info": {
   "codemirror_mode": {
    "name": "ipython",
    "version": 3
   },
   "file_extension": ".py",
   "mimetype": "text/x-python",
   "name": "python",
   "nbconvert_exporter": "python",
   "pygments_lexer": "ipython3",
   "version": "3.6.4"
  }
 },
 "nbformat": 4,
 "nbformat_minor": 2
}
